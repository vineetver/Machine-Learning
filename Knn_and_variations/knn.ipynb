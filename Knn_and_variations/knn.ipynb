{
 "cells": [
  {
   "cell_type": "code",
   "execution_count": 1,
   "metadata": {
    "pycharm": {
     "name": "#%%\n"
    }
   },
   "outputs": [],
   "source": [
    "import pandas as pd\n",
    "from sklearn.neighbors import KNeighborsClassifier\n",
    "from sklearn.preprocessing import MinMaxScaler\n",
    "from sklearn.neighbors import NearestCentroid\n",
    "from sklearn.neighbors import RadiusNeighborsClassifier\n",
    "from sklearn.metrics import accuracy_score\n",
    "import matplotlib.pyplot as plt\n",
    "import seaborn as sns\n",
    "import numpy as np"
   ]
  },
  {
   "cell_type": "code",
   "execution_count": 2,
   "metadata": {
    "pycharm": {
     "name": "#%%\n"
    }
   },
   "outputs": [],
   "source": [
    "df_train = pd.read_csv('../data/train.csv')\n",
    "df_test = pd.read_csv('../data/test.csv')\n",
    "\n",
    "x_train = df_train[['mean_return', 'volatility']].values\n",
    "y_train = df_train['label'].values\n",
    "\n",
    "x_test = df_test[['mean_return', 'volatility']].values\n",
    "y_test = df_test['label'].values"
   ]
  },
  {
   "cell_type": "markdown",
   "metadata": {
    "pycharm": {
     "name": "#%% md\n"
    }
   },
   "source": [
    "### Helper Functions"
   ]
  },
  {
   "cell_type": "code",
   "execution_count": 3,
   "metadata": {
    "pycharm": {
     "name": "#%%\n"
    }
   },
   "outputs": [],
   "source": [
    "def buy_and_hold():\n",
    "    \"\"\"\n",
    "    This function calculates the buy and hold strategy.\n",
    "\n",
    "    Parameters\n",
    "    ----------\n",
    "    df : pandas.DataFrame\n",
    "        Dataframe containing the data.\n",
    "\n",
    "    Returns\n",
    "    -------\n",
    "    profit : pandas.Series\n",
    "        Series containing the buy and hold strategy profit.\n",
    "    \"\"\"\n",
    "    df = pd.read_csv('../data/test.csv')\n",
    "    \n",
    "    ## Buy on the first day of 2020 and sell on the last dat of 2021\n",
    "    start_money = 100\n",
    "\n",
    "    ## Buy on the first day of 2020\n",
    "    initial = 100 / df['mean_adj_close'].loc[df['Year'] == 2020].iloc[0]\n",
    "    ## Sell on the last day of 2021\n",
    "    cash = df['mean_adj_close'].loc[df['Year'] == 2021].iloc[-1] * initial\n",
    "\n",
    "    profit = cash\n",
    "    return profit\n",
    "\n",
    "def my_trading_strategy(df, **kwargs):\n",
    "    \"\"\"\n",
    "    This function calculates the trading strategy.\n",
    "\n",
    "    Parameters\n",
    "    ----------\n",
    "    df : pandas.DataFrame\n",
    "        Dataframe containing the data.\n",
    "\n",
    "    Returns\n",
    "    -------\n",
    "    profit : pandas.Series\n",
    "        Series containing the trading strategy profit.\n",
    "    \"\"\"\n",
    "\n",
    "    \n",
    "    label = kwargs['labels']\n",
    "    eval = kwargs['eval']\n",
    "\n",
    "    df['labels'] = label\n",
    "    \n",
    "    initial: int('Stock') = 0\n",
    "    cash: int('Starting Money') = 100\n",
    "    profit: int = 0\n",
    "    total_profit: int = 0\n",
    "    sell: int = 0\n",
    "    total_loss: int = 0\n",
    "    success: int = 0\n",
    "    fail: int = 0\n",
    "    count: list = []\n",
    "\n",
    "    if eval == 'test':\n",
    "        for i in range(len(df)):\n",
    "            \"\"\"\n",
    "            Start buying \n",
    "            \"\"\"\n",
    "\n",
    "            if(df['labels'].iloc[i] == 1 and initial == 0):\n",
    "                initial = cash / df['mean_adj_close'].iloc[i]\n",
    "\n",
    "            elif(df['labels'].iloc[i] != 1 and initial != 0):\n",
    "                sell = initial * df['mean_adj_close'].iloc[i]\n",
    "                if(sell > cash):\n",
    "                    profit = sell - cash\n",
    "                    success += 1\n",
    "                    total_profit += profit\n",
    "                else:\n",
    "                    loss = cash - sell\n",
    "                    fail += 1\n",
    "                    total_loss += loss \n",
    "                cash = sell\n",
    "                initial = 0\n",
    "\n",
    "        print(f'Success: {success}')\n",
    "        print(f'Fails: {fail}')\n",
    "\n",
    "        return total_profit\n",
    "\n",
    "    elif eval == 'train':\n",
    "        for i in range(len(df)):\n",
    "            \"\"\"\n",
    "            Start buying \n",
    "            \"\"\"\n",
    "\n",
    "            if(df['label'].iloc[i] == 1 and initial == 0):\n",
    "                initial = cash / df['mean_adj_close'].iloc[i]\n",
    "\n",
    "            elif(df['label'].iloc[i] != 1 and initial != 0):\n",
    "                sell = initial * df['mean_adj_close'].iloc[i]\n",
    "                if(sell > cash):\n",
    "                    profit = sell - cash\n",
    "                    success += 1\n",
    "                    total_profit += profit\n",
    "                else:\n",
    "                    loss = cash - sell\n",
    "                    fail += 1\n",
    "                    total_loss += loss \n",
    "                cash = sell\n",
    "                initial = 0\n",
    "\n",
    "        print(f'Number of successfull trades: {success}')\n",
    "        print(f'Number of failed trades: {fail}')\n",
    "\n",
    "        return total_profit\n"
   ]
  },
  {
   "cell_type": "code",
   "execution_count": 4,
   "metadata": {
    "pycharm": {
     "name": "#%%\n"
    }
   },
   "outputs": [
    {
     "name": "stdout",
     "output_type": "stream",
     "text": [
      "Buy and hold profit = $2898\n",
      "Number of successfull trades: 18\n",
      "Number of failed trades: 8\n",
      "My trading strategy profit = $6094\n"
     ]
    }
   ],
   "source": [
    "print(f'Buy and hold profit = ${round(buy_and_hold(df_test))}')\n",
    "print(f'My trading strategy profit = ${round(my_trading_strategy(df_test, labels=\"none\", eval=\"train\"))}')"
   ]
  },
  {
   "cell_type": "markdown",
   "metadata": {
    "pycharm": {
     "name": "#%% md\n"
    }
   },
   "source": [
    "### Preparing data for training"
   ]
  },
  {
   "cell_type": "code",
   "execution_count": 5,
   "metadata": {
    "pycharm": {
     "name": "#%%\n"
    }
   },
   "outputs": [],
   "source": [
    "scaler = MinMaxScaler()\n",
    "x_train = scaler.fit_transform(x_train)\n",
    "x_test = scaler.transform(x_test)"
   ]
  },
  {
   "cell_type": "markdown",
   "metadata": {
    "pycharm": {
     "name": "#%% md\n"
    }
   },
   "source": [
    "### KNN\n",
    "----"
   ]
  },
  {
   "cell_type": "markdown",
   "metadata": {
    "pycharm": {
     "name": "#%% md\n"
    }
   },
   "source": [
    "Finding the best value of k for KNN Euclidean distance"
   ]
  },
  {
   "cell_type": "code",
   "execution_count": 6,
   "metadata": {
    "pycharm": {
     "name": "#%%\n"
    }
   },
   "outputs": [
    {
     "data": {
      "text/plain": "<Figure size 720x288 with 1 Axes>",
      "image/png": "[encoded data removed]"
     },
     "metadata": {
      "needs_background": "light"
     },
     "output_type": "display_data"
    }
   ],
   "source": [
    "highest_accuracy: list = []\n",
    "for k in range(3, 21, 2):\n",
    "    knn = KNeighborsClassifier(n_neighbors = k)\n",
    "    knn.fit(x_train, y_train)\n",
    "    y_pred = knn.predict(x_test)\n",
    "    highest_accuracy.append(accuracy_score(y_test, y_pred)) \n",
    "\n",
    "plt.figure(figsize=(10, 4))\n",
    "plt.plot(range(3, 21, 2), highest_accuracy, color='red', linestyle='dashed', marker='o', markerfacecolor='black', markersize=4)\n",
    "plt.title('Accuracy vs K')\n",
    "plt.xlabel('Number of neighbors: k')\n",
    "plt.ylabel('Accuracy')\n",
    "plt.show()"
   ]
  },
  {
   "cell_type": "markdown",
   "metadata": {
    "pycharm": {
     "name": "#%% md\n"
    }
   },
   "source": [
    "Visually choosing k = 13"
   ]
  },
  {
   "cell_type": "code",
   "execution_count": 7,
   "metadata": {
    "pycharm": {
     "name": "#%%\n"
    }
   },
   "outputs": [
    {
     "name": "stdout",
     "output_type": "stream",
     "text": [
      "Accuracy: 0.96\n"
     ]
    }
   ],
   "source": [
    "knn = KNeighborsClassifier(n_neighbors = 13, p=2)\n",
    "knn.fit(x_train, y_train)\n",
    "y_pred = knn.predict(x_test)\n",
    "print(f'Accuracy: {round(accuracy_score(y_test, y_pred), 2)}')"
   ]
  },
  {
   "cell_type": "markdown",
   "metadata": {
    "pycharm": {
     "name": "#%% md\n"
    }
   },
   "source": [
    "y_pred = learned labels for year 2020 and 2021"
   ]
  },
  {
   "cell_type": "code",
   "execution_count": 8,
   "metadata": {
    "pycharm": {
     "name": "#%%\n"
    }
   },
   "outputs": [
    {
     "name": "stdout",
     "output_type": "stream",
     "text": [
      "Success: 18\n",
      "Fails: 8\n",
      "My trading strategy profit = $5652\n"
     ]
    }
   ],
   "source": [
    "print(f'My trading strategy profit = ${round(my_trading_strategy(df_test, labels=y_pred, eval=\"test\"))}')"
   ]
  },
  {
   "cell_type": "markdown",
   "metadata": {
    "pycharm": {
     "name": "#%% md\n"
    }
   },
   "source": [
    "### KNN Manhattan\n",
    "----\n",
    "\n",
    "Finding the best value of k for KNN Manhattan Distance"
   ]
  },
  {
   "cell_type": "code",
   "execution_count": 517,
   "metadata": {
    "pycharm": {
     "name": "#%%\n"
    }
   },
   "outputs": [
    {
     "data": {
      "image/png": "[encoded data removed]",
      "text/plain": [
       "<Figure size 720x288 with 1 Axes>"
      ]
     },
     "metadata": {
      "needs_background": "light"
     },
     "output_type": "display_data"
    }
   ],
   "source": [
    "highest_accuracy: list = []\n",
    "for k in range(3, 21, 2):\n",
    "    knn = KNeighborsClassifier(n_neighbors = k, p = 1)\n",
    "    knn.fit(x_train, y_train)\n",
    "    y_pred = knn.predict(x_test)\n",
    "    highest_accuracy.append(accuracy_score(y_test, y_pred)) \n",
    "\n",
    "plt.figure(figsize=(10, 4))\n",
    "plt.plot(range(3, 21, 2), highest_accuracy, color='red', linestyle='dashed', marker='o', markerfacecolor='black', markersize=4)\n",
    "plt.title('Accuracy vs K')\n",
    "plt.xlabel('Number of neighbors: k')\n",
    "plt.ylabel('Accuracy')\n",
    "plt.show()"
   ]
  },
  {
   "cell_type": "code",
   "execution_count": 518,
   "metadata": {
    "pycharm": {
     "name": "#%%\n"
    }
   },
   "outputs": [
    {
     "name": "stdout",
     "output_type": "stream",
     "text": [
      "Accuracy: 0.97\n"
     ]
    }
   ],
   "source": [
    "knn = KNeighborsClassifier(n_neighbors = 13, p=1)\n",
    "knn.fit(x_train, y_train)\n",
    "y_pred = knn.predict(x_test)\n",
    "print(f'Accuracy: {round(accuracy_score(y_test, y_pred), 2)}')"
   ]
  },
  {
   "cell_type": "code",
   "execution_count": 519,
   "metadata": {
    "pycharm": {
     "name": "#%%\n"
    }
   },
   "outputs": [
    {
     "name": "stdout",
     "output_type": "stream",
     "text": [
      "Success: 18\n",
      "Fails: 8\n",
      "My trading strategy profit = $5803\n"
     ]
    }
   ],
   "source": [
    "print(f'My trading strategy profit = ${round(my_trading_strategy(df_test, labels=y_pred, eval=\"test\"))}')"
   ]
  },
  {
   "cell_type": "markdown",
   "metadata": {
    "pycharm": {
     "name": "#%% md\n"
    }
   },
   "source": [
    "#### KNN Minkowski\n",
    "----\n",
    "Finding the best value of k for Minkowski distance"
   ]
  },
  {
   "cell_type": "code",
   "execution_count": 520,
   "metadata": {
    "pycharm": {
     "name": "#%%\n"
    }
   },
   "outputs": [
    {
     "data": {
      "image/png": "[encoded data removed]",
      "text/plain": [
       "<Figure size 720x288 with 1 Axes>"
      ]
     },
     "metadata": {
      "needs_background": "light"
     },
     "output_type": "display_data"
    }
   ],
   "source": [
    "highest_accuracy: list = []\n",
    "\n",
    "p = 1.5\n",
    "\n",
    "def minkowski(a, b, p):\n",
    "    return np.linalg.norm(a-b, ord=p)\n",
    "\n",
    "for k in range(3, 21, 2):\n",
    "    knn = KNeighborsClassifier(n_neighbors = k, metric= lambda a, b: minkowski(a, b, p))\n",
    "    knn.fit(x_train, y_train)\n",
    "    y_pred = knn.predict(x_test)\n",
    "    highest_accuracy.append(accuracy_score(y_test, y_pred)) \n",
    "\n",
    "plt.figure(figsize=(10, 4))\n",
    "plt.plot(range(3, 21, 2), highest_accuracy, color='red', linestyle='dashed', marker='o', markerfacecolor='black', markersize=4)\n",
    "plt.title('Accuracy vs K')\n",
    "plt.xlabel('Number of neighbors: k')\n",
    "plt.ylabel('Accuracy')\n",
    "plt.show()"
   ]
  },
  {
   "cell_type": "code",
   "execution_count": 521,
   "metadata": {
    "pycharm": {
     "name": "#%%\n"
    }
   },
   "outputs": [
    {
     "name": "stdout",
     "output_type": "stream",
     "text": [
      "Accuracy: 0.96\n"
     ]
    }
   ],
   "source": [
    "knn = KNeighborsClassifier(n_neighbors = 13, metric= lambda a, b: minkowski(a, b, p))\n",
    "knn.fit(x_train, y_train)\n",
    "y_pred = knn.predict(x_test)\n",
    "print(f'Accuracy: {round(accuracy_score(y_test, y_pred), 2)}')"
   ]
  },
  {
   "cell_type": "code",
   "execution_count": 522,
   "metadata": {
    "pycharm": {
     "name": "#%%\n"
    }
   },
   "outputs": [
    {
     "name": "stdout",
     "output_type": "stream",
     "text": [
      "Success: 18\n",
      "Fails: 8\n",
      "My trading strategy profit = $5652\n"
     ]
    }
   ],
   "source": [
    "print(f'My trading strategy profit = ${round(my_trading_strategy(df_test, labels=y_pred, eval=\"test\"))}')"
   ]
  }
 ],
 "metadata": {
  "interpreter": {
   "hash": "29c75b1f656e0b1ae38298d922e204e268fabb475feb2323015295e781085b10"
  },
  "kernelspec": {
   "display_name": "Python 3.9.11 ('ml')",
   "language": "python",
   "name": "python3"
  },
  "language_info": {
   "codemirror_mode": {
    "name": "ipython",
    "version": 3
   },
   "file_extension": ".py",
   "mimetype": "text/x-python",
   "name": "python",
   "nbconvert_exporter": "python",
   "pygments_lexer": "ipython3",
   "version": "3.9.11"
  },
  "orig_nbformat": 4
 },
 "nbformat": 4,
 "nbformat_minor": 2
}