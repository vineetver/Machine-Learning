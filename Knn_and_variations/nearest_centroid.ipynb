{
 "cells": [
  {
   "cell_type": "code",
   "execution_count": 1,
   "metadata": {},
   "outputs": [],
   "source": [
    "import pandas as pd\n",
    "from sklearn.preprocessing import MinMaxScaler\n",
    "from sklearn.neighbors import NearestCentroid\n",
    "from sklearn.metrics import accuracy_score\n",
    "import matplotlib.pyplot as plt\n",
    "import seaborn as sns\n",
    "import numpy as np"
   ]
  },
  {
   "cell_type": "code",
   "execution_count": 2,
   "metadata": {},
   "outputs": [],
   "source": [
    "df_train = pd.read_csv('../data/train.csv')\n",
    "df_test = pd.read_csv('../data/test.csv')\n",
    "\n",
    "x_train = df_train[['mean_return', 'volatility']].values\n",
    "y_train = df_train['label'].values\n",
    "\n",
    "x_test = df_test[['mean_return', 'volatility']].values\n",
    "y_test = df_test['label'].values"
   ]
  },
  {
   "cell_type": "markdown",
   "metadata": {},
   "source": [
    "### Helper Functions"
   ]
  },
  {
   "cell_type": "code",
   "execution_count": 3,
   "metadata": {},
   "outputs": [],
   "source": [
    "def buy_and_hold(df):\n",
    "    \"\"\"\n",
    "    This function calculates the buy and hold strategy.\n",
    "\n",
    "    Parameters\n",
    "    ----------\n",
    "    df : pandas.DataFrame\n",
    "        Dataframe containing the data.\n",
    "\n",
    "    Returns\n",
    "    -------\n",
    "    profit : pandas.Series\n",
    "        Series containing the buy and hold strategy profit.\n",
    "    \"\"\"\n",
    "    df = pd.read_csv('../data/test.csv')\n",
    "    \n",
    "    ## Buy on the first day of 2020 and sell on the last dat of 2021\n",
    "    start_money = 100\n",
    "\n",
    "    ## Buy on the first day of 2020\n",
    "    initial = 100 / df['mean_adj_close'].loc[df['Year'] == 2020].iloc[0]\n",
    "    ## Sell on the last day of 2021\n",
    "    cash = df['mean_adj_close'].loc[df['Year'] == 2021].iloc[-1] * initial\n",
    "\n",
    "    profit = cash\n",
    "    return profit\n",
    "\n",
    "def my_trading_strategy(df, **kwargs):\n",
    "    \"\"\"\n",
    "    This function calculates the trading strategy.\n",
    "\n",
    "    Parameters\n",
    "    ----------\n",
    "    df : pandas.DataFrame\n",
    "        Dataframe containing the data.\n",
    "\n",
    "    Returns\n",
    "    -------\n",
    "    profit : pandas.Series\n",
    "        Series containing the trading strategy profit.\n",
    "    \"\"\"\n",
    "\n",
    "    \n",
    "    label = kwargs['labels']\n",
    "    eval = kwargs['eval']\n",
    "\n",
    "    df['labels'] = label\n",
    "    \n",
    "    initial: int('Stock') = 0\n",
    "    cash: int('Starting Money') = 100\n",
    "    profit: int = 0\n",
    "    total_profit: int = 0\n",
    "    sell: int = 0\n",
    "    total_loss: int = 0\n",
    "    success: int = 0\n",
    "    fail: int = 0\n",
    "    count: list = []\n",
    "\n",
    "    if eval == 'test':\n",
    "        for i in range(len(df)):\n",
    "            \"\"\"\n",
    "            Start buying \n",
    "            \"\"\"\n",
    "\n",
    "            if(df['labels'].iloc[i] == 1 and initial == 0):\n",
    "                initial = cash / df['mean_adj_close'].iloc[i]\n",
    "\n",
    "            elif(df['labels'].iloc[i] != 1 and initial != 0):\n",
    "                sell = initial * df['mean_adj_close'].iloc[i]\n",
    "                if(sell > cash):\n",
    "                    profit = sell - cash\n",
    "                    success += 1\n",
    "                    total_profit += profit\n",
    "                else:\n",
    "                    loss = cash - sell\n",
    "                    fail += 1\n",
    "                    total_loss += loss \n",
    "                cash = sell\n",
    "                initial = 0\n",
    "\n",
    "        print(f'Success: {success}')\n",
    "        print(f'Fails: {fail}')\n",
    "\n",
    "        return total_profit\n",
    "\n",
    "    elif eval == 'train':\n",
    "        for i in range(len(df)):\n",
    "            \"\"\"\n",
    "            Start buying \n",
    "            \"\"\"\n",
    "\n",
    "            if(df['label'].iloc[i] == 1 and initial == 0):\n",
    "                initial = cash / df['mean_adj_close'].iloc[i]\n",
    "\n",
    "            elif(df['label'].iloc[i] != 1 and initial != 0):\n",
    "                sell = initial * df['mean_adj_close'].iloc[i]\n",
    "                if(sell > cash):\n",
    "                    profit = sell - cash\n",
    "                    success += 1\n",
    "                    total_profit += profit\n",
    "                else:\n",
    "                    loss = cash - sell\n",
    "                    fail += 1\n",
    "                    total_loss += loss \n",
    "                cash = sell\n",
    "                initial = 0\n",
    "\n",
    "        print(f'Number of successfull trades: {success}')\n",
    "        print(f'Number of failed trades: {fail}')\n",
    "\n",
    "        return total_profit\n"
   ]
  },
  {
   "cell_type": "code",
   "execution_count": 4,
   "metadata": {},
   "outputs": [
    {
     "name": "stdout",
     "output_type": "stream",
     "text": [
      "Buy and hold profit = $2898\n",
      "Number of successfull trades: 18\n",
      "Number of failed trades: 8\n",
      "My trading strategy profit = $6094\n"
     ]
    }
   ],
   "source": [
    "print(f'Buy and hold profit = ${round(buy_and_hold(df_test))}')\n",
    "print(f'My trading strategy profit = ${round(my_trading_strategy(df_test, labels=\"none\", eval=\"train\"))}')"
   ]
  },
  {
   "cell_type": "markdown",
   "metadata": {},
   "source": [
    "### Preparing data for training"
   ]
  },
  {
   "cell_type": "code",
   "execution_count": 5,
   "metadata": {},
   "outputs": [],
   "source": [
    "scaler = MinMaxScaler()\n",
    "x_train = scaler.fit_transform(x_train)\n",
    "x_test = scaler.transform(x_test)"
   ]
  },
  {
   "cell_type": "markdown",
   "metadata": {},
   "source": [
    "### Nearest Centroid\n",
    "----\n"
   ]
  },
  {
   "cell_type": "code",
   "execution_count": 6,
   "metadata": {},
   "outputs": [
    {
     "name": "stdout",
     "output_type": "stream",
     "text": [
      "Accuracy: 0.93\n"
     ]
    }
   ],
   "source": [
    "nc = NearestCentroid()\n",
    "nc.fit(x_train, y_train)\n",
    "y_pred = nc.predict(x_test)\n",
    "print(f'Accuracy: {round(accuracy_score(y_test, y_pred), 2)}')"
   ]
  },
  {
   "cell_type": "code",
   "execution_count": 41,
   "metadata": {},
   "outputs": [],
   "source": [
    "green = nc.centroids_[0]\n",
    "red = nc.centroids_[1]"
   ]
  },
  {
   "cell_type": "code",
   "execution_count": 47,
   "metadata": {},
   "outputs": [
    {
     "name": "stdout",
     "output_type": "stream",
     "text": [
      "Nearest Centroid for label 1: [0.35686353 0.37522066]\n",
      "Nearest Centroid for label 0: [0.62219019 0.34934364]\n"
     ]
    },
    {
     "data": {
      "image/png": "[encoded data removed]",
      "text/plain": [
       "<Figure size 432x288 with 1 Axes>"
      ]
     },
     "metadata": {
      "needs_background": "light"
     },
     "output_type": "display_data"
    }
   ],
   "source": [
    "print(f'Nearest Centroid for label 1: {green}\\nNearest Centroid for label 0: {red}')\n",
    "\n",
    "plt.scatter(nc.centroids_[:, 0], nc.centroids_[:, 1], marker='o', s=150, linewidth=5)\n",
    "plt.scatter(x_test[:, 0], x_test[:, 1], c=y_test, s=50, cmap='Pastel2')\n",
    "plt.xlabel('Mean Return')\n",
    "plt.ylabel('Volatility')\n",
    "plt.title('Nearest Centroid')\n",
    "plt.show()"
   ]
  },
  {
   "cell_type": "code",
   "execution_count": 45,
   "metadata": {},
   "outputs": [
    {
     "name": "stdout",
     "output_type": "stream",
     "text": [
      "Mean distance from green centroid: 0.26\n",
      "Mean distance from red centroid: 0.26\n"
     ]
    }
   ],
   "source": [
    "dist_red = []\n",
    "dist_green = []\n",
    "for i in range(len(x_train)):\n",
    "    temp = np.linalg.norm(x_train[i] - green)\n",
    "    temp2 = np.linalg.norm(x_train[i] - red)\n",
    "    dist_green.append(temp)\n",
    "    dist_red.append(temp2)\n",
    "    \n",
    "print(f'Mean distance from green centroid: {round(np.mean(dist_green), 2)}')\n",
    "print(f'Mean distance from red centroid: {round(np.mean(dist_red), 2)}')"
   ]
  },
  {
   "cell_type": "code",
   "execution_count": null,
   "metadata": {},
   "outputs": [],
   "source": []
  }
 ],
 "metadata": {
  "interpreter": {
   "hash": "29c75b1f656e0b1ae38298d922e204e268fabb475feb2323015295e781085b10"
  },
  "kernelspec": {
   "display_name": "Python 3.9.11 ('ml')",
   "language": "python",
   "name": "python3"
  },
  "language_info": {
   "codemirror_mode": {
    "name": "ipython",
    "version": 3
   },
   "file_extension": ".py",
   "mimetype": "text/x-python",
   "name": "python",
   "nbconvert_exporter": "python",
   "pygments_lexer": "ipython3",
   "version": "3.9.11"
  },
  "orig_nbformat": 4
 },
 "nbformat": 4,
 "nbformat_minor": 2
}
