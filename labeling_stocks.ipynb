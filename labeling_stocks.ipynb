{
 "cells": [
  {
   "cell_type": "code",
   "execution_count": 1,
   "metadata": {
    "pycharm": {
     "name": "#%%\n"
    }
   },
   "outputs": [],
   "source": [
    "from src.dataset.create_dataset import *\n",
    "from src.dataset.get_act_volatility import *\n",
    "import pandas as pd\n",
    "import numpy as np"
   ]
  },
  {
   "cell_type": "code",
   "execution_count": 7,
   "metadata": {
    "pycharm": {
     "name": "#%%\n"
    }
   },
   "outputs": [],
   "source": [
    "df = pd.read_csv('./data/ETH-USD_weekly_return_volatility_detailed.csv')"
   ]
  },
  {
   "cell_type": "code",
   "execution_count": 8,
   "metadata": {
    "pycharm": {
     "name": "#%%\n"
    }
   },
   "outputs": [
    {
     "data": {
      "text/plain": "         Date  Year  Month  Day   Weekday  Week_Number Year_Week    Open  \\\n0  2017-11-09  2017     11    9  Thursday           45   2017-45  308.64   \n1  2017-11-10  2017     11   10    Friday           45   2017-45  320.67   \n2  2017-11-11  2017     11   11  Saturday           45   2017-45  298.59   \n3  2017-11-12  2017     11   12    Sunday           46   2017-46  314.69   \n4  2017-11-13  2017     11   13    Monday           46   2017-46  307.02   \n\n     High     Low   Close      Volume  Adj Close  Return    Short_MA  \\\n0  329.45  307.06  320.88   893249984     320.88   0.000  320.880000   \n1  324.72  294.54  299.25   885985984     299.25  -6.741  310.065000   \n2  319.45  298.19  314.68   842300992     314.68   5.156  311.603333   \n3  319.15  298.51  307.91  1613479936     307.91  -2.152  310.680000   \n4  328.42  307.02  316.72  1041889984     316.72   2.861  311.888000   \n\n      Long_MA  mean_return  volatility  \n0  320.880000    -0.528333    5.966071  \n1  310.065000    -0.528333    5.966071  \n2  311.603333    -0.528333    5.966071  \n3  310.680000     1.477000    3.277433  \n4  311.888000     1.477000    3.277433  ",
      "text/html": "<div>\n<style scoped>\n    .dataframe tbody tr th:only-of-type {\n        vertical-align: middle;\n    }\n\n    .dataframe tbody tr th {\n        vertical-align: top;\n    }\n\n    .dataframe thead th {\n        text-align: right;\n    }\n</style>\n<table border=\"1\" class=\"dataframe\">\n  <thead>\n    <tr style=\"text-align: right;\">\n      <th></th>\n      <th>Date</th>\n      <th>Year</th>\n      <th>Month</th>\n      <th>Day</th>\n      <th>Weekday</th>\n      <th>Week_Number</th>\n      <th>Year_Week</th>\n      <th>Open</th>\n      <th>High</th>\n      <th>Low</th>\n      <th>Close</th>\n      <th>Volume</th>\n      <th>Adj Close</th>\n      <th>Return</th>\n      <th>Short_MA</th>\n      <th>Long_MA</th>\n      <th>mean_return</th>\n      <th>volatility</th>\n    </tr>\n  </thead>\n  <tbody>\n    <tr>\n      <th>0</th>\n      <td>2017-11-09</td>\n      <td>2017</td>\n      <td>11</td>\n      <td>9</td>\n      <td>Thursday</td>\n      <td>45</td>\n      <td>2017-45</td>\n      <td>308.64</td>\n      <td>329.45</td>\n      <td>307.06</td>\n      <td>320.88</td>\n      <td>893249984</td>\n      <td>320.88</td>\n      <td>0.000</td>\n      <td>320.880000</td>\n      <td>320.880000</td>\n      <td>-0.528333</td>\n      <td>5.966071</td>\n    </tr>\n    <tr>\n      <th>1</th>\n      <td>2017-11-10</td>\n      <td>2017</td>\n      <td>11</td>\n      <td>10</td>\n      <td>Friday</td>\n      <td>45</td>\n      <td>2017-45</td>\n      <td>320.67</td>\n      <td>324.72</td>\n      <td>294.54</td>\n      <td>299.25</td>\n      <td>885985984</td>\n      <td>299.25</td>\n      <td>-6.741</td>\n      <td>310.065000</td>\n      <td>310.065000</td>\n      <td>-0.528333</td>\n      <td>5.966071</td>\n    </tr>\n    <tr>\n      <th>2</th>\n      <td>2017-11-11</td>\n      <td>2017</td>\n      <td>11</td>\n      <td>11</td>\n      <td>Saturday</td>\n      <td>45</td>\n      <td>2017-45</td>\n      <td>298.59</td>\n      <td>319.45</td>\n      <td>298.19</td>\n      <td>314.68</td>\n      <td>842300992</td>\n      <td>314.68</td>\n      <td>5.156</td>\n      <td>311.603333</td>\n      <td>311.603333</td>\n      <td>-0.528333</td>\n      <td>5.966071</td>\n    </tr>\n    <tr>\n      <th>3</th>\n      <td>2017-11-12</td>\n      <td>2017</td>\n      <td>11</td>\n      <td>12</td>\n      <td>Sunday</td>\n      <td>46</td>\n      <td>2017-46</td>\n      <td>314.69</td>\n      <td>319.15</td>\n      <td>298.51</td>\n      <td>307.91</td>\n      <td>1613479936</td>\n      <td>307.91</td>\n      <td>-2.152</td>\n      <td>310.680000</td>\n      <td>310.680000</td>\n      <td>1.477000</td>\n      <td>3.277433</td>\n    </tr>\n    <tr>\n      <th>4</th>\n      <td>2017-11-13</td>\n      <td>2017</td>\n      <td>11</td>\n      <td>13</td>\n      <td>Monday</td>\n      <td>46</td>\n      <td>2017-46</td>\n      <td>307.02</td>\n      <td>328.42</td>\n      <td>307.02</td>\n      <td>316.72</td>\n      <td>1041889984</td>\n      <td>316.72</td>\n      <td>2.861</td>\n      <td>311.888000</td>\n      <td>311.888000</td>\n      <td>1.477000</td>\n      <td>3.277433</td>\n    </tr>\n  </tbody>\n</table>\n</div>"
     },
     "execution_count": 8,
     "metadata": {},
     "output_type": "execute_result"
    }
   ],
   "source": [
    "df.head(5)"
   ]
  },
  {
   "cell_type": "markdown",
   "metadata": {
    "pycharm": {
     "name": "#%% md\n"
    }
   },
   "source": [
    "#### Preprocessing"
   ]
  },
  {
   "cell_type": "markdown",
   "metadata": {
    "pycharm": {
     "name": "#%% md\n"
    }
   },
   "source": [
    "I will drop the year 2017 and 2022, because they dont have full year of data, and I will use the data from 2018 and 2019 as my training set, and the data from 2020 and 2021 as my testing set"
   ]
  },
  {
   "cell_type": "code",
   "execution_count": 152,
   "metadata": {
    "pycharm": {
     "name": "#%%\n"
    }
   },
   "outputs": [],
   "source": [
    "df = df[df['Year'] > 2017]\n",
    "df = df[df['Year'] < 2022]"
   ]
  },
  {
   "cell_type": "code",
   "execution_count": 153,
   "metadata": {
    "pycharm": {
     "name": "#%%\n"
    }
   },
   "outputs": [
    {
     "data": {
      "text/plain": [
       "array([2018, 2019, 2020, 2021], dtype=int64)"
      ]
     },
     "execution_count": 153,
     "metadata": {},
     "output_type": "execute_result"
    }
   ],
   "source": [
    "df['Year'].unique()"
   ]
  },
  {
   "cell_type": "code",
   "execution_count": 154,
   "metadata": {
    "pycharm": {
     "name": "#%%\n"
    }
   },
   "outputs": [],
   "source": [
    "## Add 1 to week number to make it start from 1 instead of 0\n",
    "\n",
    "df['Week_Number'] = df['Week_Number'].astype(int) + 1"
   ]
  },
  {
   "cell_type": "markdown",
   "metadata": {
    "pycharm": {
     "name": "#%% md\n"
    }
   },
   "source": [
    "### Labeling\n",
    "\n",
    "We need to label the data, so we can use it for training. There are many ways to do this, but we will use the following: \n",
    "\n",
    "Label the datapoint as green(1) if the mean_return is geater than -0.05% and red(0) if the mean_return is smaller than -0.05%.\n",
    "\n",
    "The rule is simple and easy to understand. I can also come up with more complex rules, but I will not do that here."
   ]
  },
  {
   "cell_type": "code",
   "execution_count": 155,
   "metadata": {
    "pycharm": {
     "name": "#%%\n"
    }
   },
   "outputs": [],
   "source": [
    "## Add randomness to this\n",
    "# df['label'] = np.random.randint(0, 2, size=len(df))\n",
    "df['label'] = df['mean_return'].apply(lambda x: 1 if x > -0.1 else 0)"
   ]
  },
  {
   "cell_type": "code",
   "execution_count": 156,
   "metadata": {
    "pycharm": {
     "name": "#%%\n"
    }
   },
   "outputs": [
    {
     "data": {
      "text/html": [
       "<div>\n",
       "<style scoped>\n",
       "    .dataframe tbody tr th:only-of-type {\n",
       "        vertical-align: middle;\n",
       "    }\n",
       "\n",
       "    .dataframe tbody tr th {\n",
       "        vertical-align: top;\n",
       "    }\n",
       "\n",
       "    .dataframe thead th {\n",
       "        text-align: right;\n",
       "    }\n",
       "</style>\n",
       "<table border=\"1\" class=\"dataframe\">\n",
       "  <thead>\n",
       "    <tr style=\"text-align: right;\">\n",
       "      <th></th>\n",
       "      <th>Open</th>\n",
       "      <th>High</th>\n",
       "      <th>Low</th>\n",
       "      <th>Close</th>\n",
       "      <th>Adj Close</th>\n",
       "      <th>Volume</th>\n",
       "      <th>Return</th>\n",
       "      <th>Date</th>\n",
       "      <th>Week_Number</th>\n",
       "      <th>Year</th>\n",
       "      <th>Day</th>\n",
       "      <th>Weekday</th>\n",
       "      <th>mean_return</th>\n",
       "      <th>volatility</th>\n",
       "      <th>label</th>\n",
       "    </tr>\n",
       "  </thead>\n",
       "  <tbody>\n",
       "    <tr>\n",
       "      <th>53</th>\n",
       "      <td>755.757019</td>\n",
       "      <td>782.530029</td>\n",
       "      <td>742.004028</td>\n",
       "      <td>772.640991</td>\n",
       "      <td>772.640991</td>\n",
       "      <td>2595760128</td>\n",
       "      <td>2.102</td>\n",
       "      <td>2018-01-01</td>\n",
       "      <td>1</td>\n",
       "      <td>2018</td>\n",
       "      <td>1</td>\n",
       "      <td>Monday</td>\n",
       "      <td>5.571833</td>\n",
       "      <td>5.133605</td>\n",
       "      <td>1</td>\n",
       "    </tr>\n",
       "    <tr>\n",
       "      <th>54</th>\n",
       "      <td>772.346008</td>\n",
       "      <td>914.830017</td>\n",
       "      <td>772.346008</td>\n",
       "      <td>884.443970</td>\n",
       "      <td>884.443970</td>\n",
       "      <td>5783349760</td>\n",
       "      <td>14.470</td>\n",
       "      <td>2018-01-02</td>\n",
       "      <td>1</td>\n",
       "      <td>2018</td>\n",
       "      <td>2</td>\n",
       "      <td>Tuesday</td>\n",
       "      <td>5.571833</td>\n",
       "      <td>5.133605</td>\n",
       "      <td>1</td>\n",
       "    </tr>\n",
       "  </tbody>\n",
       "</table>\n",
       "</div>"
      ],
      "text/plain": [
       "          Open        High         Low       Close   Adj Close      Volume  \\\n",
       "53  755.757019  782.530029  742.004028  772.640991  772.640991  2595760128   \n",
       "54  772.346008  914.830017  772.346008  884.443970  884.443970  5783349760   \n",
       "\n",
       "    Return        Date  Week_Number  Year  Day  Weekday  mean_return  \\\n",
       "53   2.102  2018-01-01            1  2018    1   Monday     5.571833   \n",
       "54  14.470  2018-01-02            1  2018    2  Tuesday     5.571833   \n",
       "\n",
       "    volatility  label  \n",
       "53    5.133605      1  \n",
       "54    5.133605      1  "
      ]
     },
     "execution_count": 156,
     "metadata": {},
     "output_type": "execute_result"
    }
   ],
   "source": [
    "df.head(2)"
   ]
  },
  {
   "cell_type": "markdown",
   "metadata": {
    "pycharm": {
     "name": "#%% md\n"
    }
   },
   "source": [
    "I applied labels based on mean_return of the week. This is because the mean_return is the average return of the week and I want to trade on the weeks that are green.\n"
   ]
  },
  {
   "cell_type": "code",
   "execution_count": 157,
   "metadata": {
    "pycharm": {
     "name": "#%%\n"
    }
   },
   "outputs": [],
   "source": [
    "## Saving the dataframe to csv\n",
    "df.to_csv('./data/ETH-USD_weekly_return_volatility_detailed_labeled.csv', index=False)"
   ]
  },
  {
   "cell_type": "code",
   "execution_count": 158,
   "metadata": {
    "pycharm": {
     "name": "#%%\n"
    }
   },
   "outputs": [
    {
     "data": {
      "text/html": [
       "<div>\n",
       "<style scoped>\n",
       "    .dataframe tbody tr th:only-of-type {\n",
       "        vertical-align: middle;\n",
       "    }\n",
       "\n",
       "    .dataframe tbody tr th {\n",
       "        vertical-align: top;\n",
       "    }\n",
       "\n",
       "    .dataframe thead th {\n",
       "        text-align: right;\n",
       "    }\n",
       "</style>\n",
       "<table border=\"1\" class=\"dataframe\">\n",
       "  <thead>\n",
       "    <tr style=\"text-align: right;\">\n",
       "      <th></th>\n",
       "      <th>Open</th>\n",
       "      <th>High</th>\n",
       "      <th>Low</th>\n",
       "      <th>Close</th>\n",
       "      <th>Adj Close</th>\n",
       "      <th>Volume</th>\n",
       "      <th>Return</th>\n",
       "      <th>Date</th>\n",
       "      <th>Week_Number</th>\n",
       "      <th>Year</th>\n",
       "      <th>Day</th>\n",
       "      <th>Weekday</th>\n",
       "      <th>mean_return</th>\n",
       "      <th>volatility</th>\n",
       "      <th>label</th>\n",
       "    </tr>\n",
       "  </thead>\n",
       "  <tbody>\n",
       "    <tr>\n",
       "      <th>53</th>\n",
       "      <td>755.757019</td>\n",
       "      <td>782.530029</td>\n",
       "      <td>742.004028</td>\n",
       "      <td>772.640991</td>\n",
       "      <td>772.640991</td>\n",
       "      <td>2595760128</td>\n",
       "      <td>2.102</td>\n",
       "      <td>2018-01-01</td>\n",
       "      <td>1</td>\n",
       "      <td>2018</td>\n",
       "      <td>1</td>\n",
       "      <td>Monday</td>\n",
       "      <td>5.571833</td>\n",
       "      <td>5.133605</td>\n",
       "      <td>1</td>\n",
       "    </tr>\n",
       "    <tr>\n",
       "      <th>54</th>\n",
       "      <td>772.346008</td>\n",
       "      <td>914.830017</td>\n",
       "      <td>772.346008</td>\n",
       "      <td>884.443970</td>\n",
       "      <td>884.443970</td>\n",
       "      <td>5783349760</td>\n",
       "      <td>14.470</td>\n",
       "      <td>2018-01-02</td>\n",
       "      <td>1</td>\n",
       "      <td>2018</td>\n",
       "      <td>2</td>\n",
       "      <td>Tuesday</td>\n",
       "      <td>5.571833</td>\n",
       "      <td>5.133605</td>\n",
       "      <td>1</td>\n",
       "    </tr>\n",
       "  </tbody>\n",
       "</table>\n",
       "</div>"
      ],
      "text/plain": [
       "          Open        High         Low       Close   Adj Close      Volume  \\\n",
       "53  755.757019  782.530029  742.004028  772.640991  772.640991  2595760128   \n",
       "54  772.346008  914.830017  772.346008  884.443970  884.443970  5783349760   \n",
       "\n",
       "    Return        Date  Week_Number  Year  Day  Weekday  mean_return  \\\n",
       "53   2.102  2018-01-01            1  2018    1   Monday     5.571833   \n",
       "54  14.470  2018-01-02            1  2018    2  Tuesday     5.571833   \n",
       "\n",
       "    volatility  label  \n",
       "53    5.133605      1  \n",
       "54    5.133605      1  "
      ]
     },
     "execution_count": 158,
     "metadata": {},
     "output_type": "execute_result"
    }
   ],
   "source": [
    "df.head(2)"
   ]
  },
  {
   "cell_type": "markdown",
   "metadata": {
    "pycharm": {
     "name": "#%% md\n"
    }
   },
   "source": [
    "### Preparing train/test datasets"
   ]
  },
  {
   "cell_type": "code",
   "execution_count": 159,
   "metadata": {
    "pycharm": {
     "name": "#%%\n"
    }
   },
   "outputs": [],
   "source": [
    "df_train = df[(df['Year'] == 2018) | (df['Year'] == 2019)]\n",
    "df_test = df[(df['Year'] == 2020) | (df['Year'] == 2021)]\n",
    "\n",
    "df_train = df_train[['Year', 'Week_Number', 'Return', 'label', 'Adj Close']]\n",
    "df_test = df_test[['Year', 'Week_Number', 'Return', 'label', 'Adj Close']]\n",
    "\n",
    "df_train_gp = df_train.groupby(['Year', 'Week_Number', 'label'])[['Return', 'Adj Close']].agg([np.mean, np.std])\n",
    "df_train_gp.reset_index(['Year', 'Week_Number', 'label'], inplace=True)\n",
    "df_train_gp.columns = ['Year', 'Week_Number', 'label', 'mean_return', 'volatility', 'mean_adj_close', 'std_price']\n",
    "df_train_gp.drop(['std_price'], axis=1, inplace=True)\n",
    "df_train_gp.fillna(0, inplace=True)\n",
    "\n",
    "df_train_gp.to_csv('./data/train.csv', index=False)\n",
    "\n",
    "df_test_gp = df_test.groupby(['Year', 'Week_Number', 'label'])[['Return', 'Adj Close']].agg([np.mean, np.std])\n",
    "df_test_gp.reset_index(['Year', 'Week_Number', 'label'], inplace=True)\n",
    "df_test_gp.columns = ['Year', 'Week_Number', 'label', 'mean_return', 'volatility', 'mean_adj_close', 'std_price']\n",
    "df_test_gp.drop(['std_price'], axis=1, inplace=True)\n",
    "df_test_gp.fillna(0, inplace=True)\n",
    "\n",
    "df_test_gp.to_csv('./data/test.csv', index=False)\n"
   ]
  }
 ],
 "metadata": {
  "interpreter": {
   "hash": "29c75b1f656e0b1ae38298d922e204e268fabb475feb2323015295e781085b10"
  },
  "kernelspec": {
   "display_name": "Python 3.9.11 ('ml')",
   "language": "python",
   "name": "python3"
  },
  "language_info": {
   "codemirror_mode": {
    "name": "ipython",
    "version": 3
   },
   "file_extension": ".py",
   "mimetype": "text/x-python",
   "name": "python",
   "nbconvert_exporter": "python",
   "pygments_lexer": "ipython3",
   "version": "3.9.11"
  },
  "orig_nbformat": 4
 },
 "nbformat": 4,
 "nbformat_minor": 2
}