{
 "cells": [
  {
   "cell_type": "code",
   "execution_count": 149,
   "metadata": {},
   "outputs": [],
   "source": [
    "import pandas as pd\n",
    "import numpy as np"
   ]
  },
  {
   "cell_type": "code",
   "execution_count": 150,
   "metadata": {},
   "outputs": [],
   "source": [
    "df = pd.read_csv('./data/ETH-USD_weekly_return_volatility_detailed.csv')"
   ]
  },
  {
   "cell_type": "code",
   "execution_count": 151,
   "metadata": {},
   "outputs": [
    {
     "data": {
      "text/html": [
       "<div>\n",
       "<style scoped>\n",
       "    .dataframe tbody tr th:only-of-type {\n",
       "        vertical-align: middle;\n",
       "    }\n",
       "\n",
       "    .dataframe tbody tr th {\n",
       "        vertical-align: top;\n",
       "    }\n",
       "\n",
       "    .dataframe thead th {\n",
       "        text-align: right;\n",
       "    }\n",
       "</style>\n",
       "<table border=\"1\" class=\"dataframe\">\n",
       "  <thead>\n",
       "    <tr style=\"text-align: right;\">\n",
       "      <th></th>\n",
       "      <th>Open</th>\n",
       "      <th>High</th>\n",
       "      <th>Low</th>\n",
       "      <th>Close</th>\n",
       "      <th>Adj Close</th>\n",
       "      <th>Volume</th>\n",
       "      <th>Return</th>\n",
       "      <th>Date</th>\n",
       "      <th>Week_Number</th>\n",
       "      <th>Year</th>\n",
       "      <th>Day</th>\n",
       "      <th>Weekday</th>\n",
       "      <th>mean_return</th>\n",
       "      <th>volatility</th>\n",
       "    </tr>\n",
       "  </thead>\n",
       "  <tbody>\n",
       "    <tr>\n",
       "      <th>0</th>\n",
       "      <td>308.644989</td>\n",
       "      <td>329.451996</td>\n",
       "      <td>307.056000</td>\n",
       "      <td>320.884003</td>\n",
       "      <td>320.884003</td>\n",
       "      <td>893249984</td>\n",
       "      <td>0.000</td>\n",
       "      <td>2017-11-09</td>\n",
       "      <td>45</td>\n",
       "      <td>2017</td>\n",
       "      <td>9</td>\n",
       "      <td>Thursday</td>\n",
       "      <td>-0.528333</td>\n",
       "      <td>5.966071</td>\n",
       "    </tr>\n",
       "    <tr>\n",
       "      <th>1</th>\n",
       "      <td>320.670990</td>\n",
       "      <td>324.717987</td>\n",
       "      <td>294.541992</td>\n",
       "      <td>299.252991</td>\n",
       "      <td>299.252991</td>\n",
       "      <td>885985984</td>\n",
       "      <td>-6.741</td>\n",
       "      <td>2017-11-10</td>\n",
       "      <td>45</td>\n",
       "      <td>2017</td>\n",
       "      <td>10</td>\n",
       "      <td>Friday</td>\n",
       "      <td>-0.528333</td>\n",
       "      <td>5.966071</td>\n",
       "    </tr>\n",
       "    <tr>\n",
       "      <th>2</th>\n",
       "      <td>298.585999</td>\n",
       "      <td>319.453003</td>\n",
       "      <td>298.191986</td>\n",
       "      <td>314.681000</td>\n",
       "      <td>314.681000</td>\n",
       "      <td>842300992</td>\n",
       "      <td>5.156</td>\n",
       "      <td>2017-11-11</td>\n",
       "      <td>45</td>\n",
       "      <td>2017</td>\n",
       "      <td>11</td>\n",
       "      <td>Saturday</td>\n",
       "      <td>-0.528333</td>\n",
       "      <td>5.966071</td>\n",
       "    </tr>\n",
       "    <tr>\n",
       "      <th>3</th>\n",
       "      <td>314.690002</td>\n",
       "      <td>319.153015</td>\n",
       "      <td>298.513000</td>\n",
       "      <td>307.907990</td>\n",
       "      <td>307.907990</td>\n",
       "      <td>1613479936</td>\n",
       "      <td>-2.152</td>\n",
       "      <td>2017-11-12</td>\n",
       "      <td>46</td>\n",
       "      <td>2017</td>\n",
       "      <td>12</td>\n",
       "      <td>Sunday</td>\n",
       "      <td>1.477000</td>\n",
       "      <td>3.277433</td>\n",
       "    </tr>\n",
       "    <tr>\n",
       "      <th>4</th>\n",
       "      <td>307.024994</td>\n",
       "      <td>328.415009</td>\n",
       "      <td>307.024994</td>\n",
       "      <td>316.716003</td>\n",
       "      <td>316.716003</td>\n",
       "      <td>1041889984</td>\n",
       "      <td>2.861</td>\n",
       "      <td>2017-11-13</td>\n",
       "      <td>46</td>\n",
       "      <td>2017</td>\n",
       "      <td>13</td>\n",
       "      <td>Monday</td>\n",
       "      <td>1.477000</td>\n",
       "      <td>3.277433</td>\n",
       "    </tr>\n",
       "  </tbody>\n",
       "</table>\n",
       "</div>"
      ],
      "text/plain": [
       "         Open        High         Low       Close   Adj Close      Volume  \\\n",
       "0  308.644989  329.451996  307.056000  320.884003  320.884003   893249984   \n",
       "1  320.670990  324.717987  294.541992  299.252991  299.252991   885985984   \n",
       "2  298.585999  319.453003  298.191986  314.681000  314.681000   842300992   \n",
       "3  314.690002  319.153015  298.513000  307.907990  307.907990  1613479936   \n",
       "4  307.024994  328.415009  307.024994  316.716003  316.716003  1041889984   \n",
       "\n",
       "   Return        Date  Week_Number  Year  Day   Weekday  mean_return  \\\n",
       "0   0.000  2017-11-09           45  2017    9  Thursday    -0.528333   \n",
       "1  -6.741  2017-11-10           45  2017   10    Friday    -0.528333   \n",
       "2   5.156  2017-11-11           45  2017   11  Saturday    -0.528333   \n",
       "3  -2.152  2017-11-12           46  2017   12    Sunday     1.477000   \n",
       "4   2.861  2017-11-13           46  2017   13    Monday     1.477000   \n",
       "\n",
       "   volatility  \n",
       "0    5.966071  \n",
       "1    5.966071  \n",
       "2    5.966071  \n",
       "3    3.277433  \n",
       "4    3.277433  "
      ]
     },
     "execution_count": 151,
     "metadata": {},
     "output_type": "execute_result"
    }
   ],
   "source": [
    "df.head(5)"
   ]
  },
  {
   "cell_type": "markdown",
   "metadata": {},
   "source": [
    "#### Preprocessing"
   ]
  },
  {
   "cell_type": "markdown",
   "metadata": {},
   "source": [
    "I will drop the year 2017 and 2022, because they not a full year of data, and I will use the data from 2018 and 2019 as my training set, and the data from 2020 and 2021 as my testing set"
   ]
  },
  {
   "cell_type": "code",
   "execution_count": 152,
   "metadata": {},
   "outputs": [],
   "source": [
    "df = df[df['Year'] > 2017]\n",
    "df = df[df['Year'] < 2022]"
   ]
  },
  {
   "cell_type": "code",
   "execution_count": 153,
   "metadata": {},
   "outputs": [
    {
     "data": {
      "text/plain": [
       "array([2018, 2019, 2020, 2021], dtype=int64)"
      ]
     },
     "execution_count": 153,
     "metadata": {},
     "output_type": "execute_result"
    }
   ],
   "source": [
    "df['Year'].unique()"
   ]
  },
  {
   "cell_type": "code",
   "execution_count": 154,
   "metadata": {},
   "outputs": [],
   "source": [
    "## Add 1 to week number to make it start from 1 instead of 0\n",
    "\n",
    "df['Week_Number'] = df['Week_Number'].astype(int) + 1"
   ]
  },
  {
   "cell_type": "markdown",
   "metadata": {},
   "source": [
    "### Labeling\n",
    "\n",
    "We need to label the data, so we can use it for training. There are many ways to do this, but we will use the following: \n",
    "\n",
    "Label the datapoint as green(1) if the mean_return is geater than -0.05% and red(0) if the mean_return is smaller than -0.05%.\n",
    "\n",
    "The rule is simple and easy to understand. I can also come up with more complex rules, but I will not do that here."
   ]
  },
  {
   "cell_type": "code",
   "execution_count": 155,
   "metadata": {},
   "outputs": [],
   "source": [
    "## Add randomness to this\n",
    "# df['label'] = np.random.randint(0, 2, size=len(df))\n",
    "df['label'] = df['mean_return'].apply(lambda x: 1 if x > -0.1 else 0)"
   ]
  },
  {
   "cell_type": "code",
   "execution_count": 156,
   "metadata": {},
   "outputs": [
    {
     "data": {
      "text/html": [
       "<div>\n",
       "<style scoped>\n",
       "    .dataframe tbody tr th:only-of-type {\n",
       "        vertical-align: middle;\n",
       "    }\n",
       "\n",
       "    .dataframe tbody tr th {\n",
       "        vertical-align: top;\n",
       "    }\n",
       "\n",
       "    .dataframe thead th {\n",
       "        text-align: right;\n",
       "    }\n",
       "</style>\n",
       "<table border=\"1\" class=\"dataframe\">\n",
       "  <thead>\n",
       "    <tr style=\"text-align: right;\">\n",
       "      <th></th>\n",
       "      <th>Open</th>\n",
       "      <th>High</th>\n",
       "      <th>Low</th>\n",
       "      <th>Close</th>\n",
       "      <th>Adj Close</th>\n",
       "      <th>Volume</th>\n",
       "      <th>Return</th>\n",
       "      <th>Date</th>\n",
       "      <th>Week_Number</th>\n",
       "      <th>Year</th>\n",
       "      <th>Day</th>\n",
       "      <th>Weekday</th>\n",
       "      <th>mean_return</th>\n",
       "      <th>volatility</th>\n",
       "      <th>label</th>\n",
       "    </tr>\n",
       "  </thead>\n",
       "  <tbody>\n",
       "    <tr>\n",
       "      <th>53</th>\n",
       "      <td>755.757019</td>\n",
       "      <td>782.530029</td>\n",
       "      <td>742.004028</td>\n",
       "      <td>772.640991</td>\n",
       "      <td>772.640991</td>\n",
       "      <td>2595760128</td>\n",
       "      <td>2.102</td>\n",
       "      <td>2018-01-01</td>\n",
       "      <td>1</td>\n",
       "      <td>2018</td>\n",
       "      <td>1</td>\n",
       "      <td>Monday</td>\n",
       "      <td>5.571833</td>\n",
       "      <td>5.133605</td>\n",
       "      <td>1</td>\n",
       "    </tr>\n",
       "    <tr>\n",
       "      <th>54</th>\n",
       "      <td>772.346008</td>\n",
       "      <td>914.830017</td>\n",
       "      <td>772.346008</td>\n",
       "      <td>884.443970</td>\n",
       "      <td>884.443970</td>\n",
       "      <td>5783349760</td>\n",
       "      <td>14.470</td>\n",
       "      <td>2018-01-02</td>\n",
       "      <td>1</td>\n",
       "      <td>2018</td>\n",
       "      <td>2</td>\n",
       "      <td>Tuesday</td>\n",
       "      <td>5.571833</td>\n",
       "      <td>5.133605</td>\n",
       "      <td>1</td>\n",
       "    </tr>\n",
       "  </tbody>\n",
       "</table>\n",
       "</div>"
      ],
      "text/plain": [
       "          Open        High         Low       Close   Adj Close      Volume  \\\n",
       "53  755.757019  782.530029  742.004028  772.640991  772.640991  2595760128   \n",
       "54  772.346008  914.830017  772.346008  884.443970  884.443970  5783349760   \n",
       "\n",
       "    Return        Date  Week_Number  Year  Day  Weekday  mean_return  \\\n",
       "53   2.102  2018-01-01            1  2018    1   Monday     5.571833   \n",
       "54  14.470  2018-01-02            1  2018    2  Tuesday     5.571833   \n",
       "\n",
       "    volatility  label  \n",
       "53    5.133605      1  \n",
       "54    5.133605      1  "
      ]
     },
     "execution_count": 156,
     "metadata": {},
     "output_type": "execute_result"
    }
   ],
   "source": [
    "df.head(2)"
   ]
  },
  {
   "cell_type": "markdown",
   "metadata": {},
   "source": [
    "I applied labels based on mean_return of the week. This is because the mean_return is the average return of the week and I want to trade on the weeks that are green.\n"
   ]
  },
  {
   "cell_type": "code",
   "execution_count": 157,
   "metadata": {},
   "outputs": [],
   "source": [
    "## Saving the dataframe to csv\n",
    "df.to_csv('./data/ETH-USD_weekly_return_volatility_detailed_labeled.csv', index=False)"
   ]
  },
  {
   "cell_type": "code",
   "execution_count": 158,
   "metadata": {},
   "outputs": [
    {
     "data": {
      "text/html": [
       "<div>\n",
       "<style scoped>\n",
       "    .dataframe tbody tr th:only-of-type {\n",
       "        vertical-align: middle;\n",
       "    }\n",
       "\n",
       "    .dataframe tbody tr th {\n",
       "        vertical-align: top;\n",
       "    }\n",
       "\n",
       "    .dataframe thead th {\n",
       "        text-align: right;\n",
       "    }\n",
       "</style>\n",
       "<table border=\"1\" class=\"dataframe\">\n",
       "  <thead>\n",
       "    <tr style=\"text-align: right;\">\n",
       "      <th></th>\n",
       "      <th>Open</th>\n",
       "      <th>High</th>\n",
       "      <th>Low</th>\n",
       "      <th>Close</th>\n",
       "      <th>Adj Close</th>\n",
       "      <th>Volume</th>\n",
       "      <th>Return</th>\n",
       "      <th>Date</th>\n",
       "      <th>Week_Number</th>\n",
       "      <th>Year</th>\n",
       "      <th>Day</th>\n",
       "      <th>Weekday</th>\n",
       "      <th>mean_return</th>\n",
       "      <th>volatility</th>\n",
       "      <th>label</th>\n",
       "    </tr>\n",
       "  </thead>\n",
       "  <tbody>\n",
       "    <tr>\n",
       "      <th>53</th>\n",
       "      <td>755.757019</td>\n",
       "      <td>782.530029</td>\n",
       "      <td>742.004028</td>\n",
       "      <td>772.640991</td>\n",
       "      <td>772.640991</td>\n",
       "      <td>2595760128</td>\n",
       "      <td>2.102</td>\n",
       "      <td>2018-01-01</td>\n",
       "      <td>1</td>\n",
       "      <td>2018</td>\n",
       "      <td>1</td>\n",
       "      <td>Monday</td>\n",
       "      <td>5.571833</td>\n",
       "      <td>5.133605</td>\n",
       "      <td>1</td>\n",
       "    </tr>\n",
       "    <tr>\n",
       "      <th>54</th>\n",
       "      <td>772.346008</td>\n",
       "      <td>914.830017</td>\n",
       "      <td>772.346008</td>\n",
       "      <td>884.443970</td>\n",
       "      <td>884.443970</td>\n",
       "      <td>5783349760</td>\n",
       "      <td>14.470</td>\n",
       "      <td>2018-01-02</td>\n",
       "      <td>1</td>\n",
       "      <td>2018</td>\n",
       "      <td>2</td>\n",
       "      <td>Tuesday</td>\n",
       "      <td>5.571833</td>\n",
       "      <td>5.133605</td>\n",
       "      <td>1</td>\n",
       "    </tr>\n",
       "  </tbody>\n",
       "</table>\n",
       "</div>"
      ],
      "text/plain": [
       "          Open        High         Low       Close   Adj Close      Volume  \\\n",
       "53  755.757019  782.530029  742.004028  772.640991  772.640991  2595760128   \n",
       "54  772.346008  914.830017  772.346008  884.443970  884.443970  5783349760   \n",
       "\n",
       "    Return        Date  Week_Number  Year  Day  Weekday  mean_return  \\\n",
       "53   2.102  2018-01-01            1  2018    1   Monday     5.571833   \n",
       "54  14.470  2018-01-02            1  2018    2  Tuesday     5.571833   \n",
       "\n",
       "    volatility  label  \n",
       "53    5.133605      1  \n",
       "54    5.133605      1  "
      ]
     },
     "execution_count": 158,
     "metadata": {},
     "output_type": "execute_result"
    }
   ],
   "source": [
    "df.head(2)"
   ]
  },
  {
   "cell_type": "markdown",
   "metadata": {},
   "source": [
    "### Preparing train/test datasets"
   ]
  },
  {
   "cell_type": "code",
   "execution_count": 159,
   "metadata": {},
   "outputs": [],
   "source": [
    "df_train = df[(df['Year'] == 2018) | (df['Year'] == 2019)]\n",
    "df_test = df[(df['Year'] == 2020) | (df['Year'] == 2021)]\n",
    "\n",
    "df_train = df_train[['Year', 'Week_Number', 'Return', 'label', 'Adj Close']]\n",
    "df_test = df_test[['Year', 'Week_Number', 'Return', 'label', 'Adj Close']]\n",
    "\n",
    "df_train_gp = df_train.groupby(['Year', 'Week_Number', 'label'])[['Return', 'Adj Close']].agg([np.mean, np.std])\n",
    "df_train_gp.reset_index(['Year', 'Week_Number', 'label'], inplace=True)\n",
    "df_train_gp.columns = ['Year', 'Week_Number', 'label', 'mean_return', 'volatility', 'mean_adj_close', 'std_price']\n",
    "df_train_gp.drop(['std_price'], axis=1, inplace=True)\n",
    "df_train_gp.fillna(0, inplace=True)\n",
    "\n",
    "df_train_gp.to_csv('./data/train.csv', index=False)\n",
    "\n",
    "df_test_gp = df_test.groupby(['Year', 'Week_Number', 'label'])[['Return', 'Adj Close']].agg([np.mean, np.std])\n",
    "df_test_gp.reset_index(['Year', 'Week_Number', 'label'], inplace=True)\n",
    "df_test_gp.columns = ['Year', 'Week_Number', 'label', 'mean_return', 'volatility', 'mean_adj_close', 'std_price']\n",
    "df_test_gp.drop(['std_price'], axis=1, inplace=True)\n",
    "df_test_gp.fillna(0, inplace=True)\n",
    "\n",
    "df_test_gp.to_csv('./data/test.csv', index=False)\n"
   ]
  }
 ],
 "metadata": {
  "interpreter": {
   "hash": "29c75b1f656e0b1ae38298d922e204e268fabb475feb2323015295e781085b10"
  },
  "kernelspec": {
   "display_name": "Python 3.9.11 ('ml')",
   "language": "python",
   "name": "python3"
  },
  "language_info": {
   "codemirror_mode": {
    "name": "ipython",
    "version": 3
   },
   "file_extension": ".py",
   "mimetype": "text/x-python",
   "name": "python",
   "nbconvert_exporter": "python",
   "pygments_lexer": "ipython3",
   "version": "3.9.11"
  },
  "orig_nbformat": 4
 },
 "nbformat": 4,
 "nbformat_minor": 2
}
